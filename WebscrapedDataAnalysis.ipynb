{
 "cells": [
  {
   "cell_type": "markdown",
   "id": "22867097",
   "metadata": {},
   "source": [
    "#### Cody Kaminski\n",
    "#### Professor Binowski\n",
    "#### Project 3: Webscraped Data Analysis\n",
    "#### The purpose of this project is to scrape websites for data and make conclusions based on the scraped data"
   ]
  },
  {
   "cell_type": "markdown",
   "id": "b9532a58",
   "metadata": {},
   "source": [
    "#### Importing requests library, BeauitfulSoup library, pandas library, and seaborn library"
   ]
  },
  {
   "cell_type": "code",
   "execution_count": 203,
   "id": "98cb8b5d",
   "metadata": {},
   "outputs": [],
   "source": [
    "import requests\n",
    "from bs4 import BeautifulSoup as bs\n",
    "import pandas as pd\n",
    "import seaborn as sns"
   ]
  },
  {
   "cell_type": "markdown",
   "id": "c7ca934e",
   "metadata": {},
   "source": [
    "#### Reading in pages and finding pages"
   ]
  },
  {
   "cell_type": "code",
   "execution_count": 204,
   "id": "6999f286",
   "metadata": {},
   "outputs": [],
   "source": [
    "BASE_URL_1 = \"https://www.sherdog.com/news/rankings/\"\n",
    "BASE_URL_2 = \"/Sherdogs-Official-Mixed-Martial-Arts-Rankings-188506\"\n",
    "headers = {'User-Agent': 'Mozilla/5.0 (Macintosh; Intel Mac OS X 10_11_5) AppleWebKit/537.36 (KHTML, like Gecko) Chrome/50.0.2661.102 Safari/537.36'}\n",
    "\n",
    "rankingURLs = []\n",
    "fighterURLs = []\n",
    "\n",
    "for num in range(2, 15):\n",
    "    rankingURLs.append(f\"{BASE_URL_1}{num}{BASE_URL_2}\")\n",
    "\n",
    "for rankingURL in rankingURLs:\n",
    "    RESPONSE = requests.get(rankingURL, headers = headers)\n",
    "    STATUS = RESPONSE.status_code\n",
    "    \n",
    "    if STATUS == 200:\n",
    "        PAGE = RESPONSE.text\n",
    "        SOUP = bs(PAGE)\n",
    "        \n",
    "        for h2 in SOUP.find_all(\"h2\")[2:12]:\n",
    "            fighterURL = \"https://www.sherdog.com\"+str(h2.find(\"a\", href = True)[\"href\"])\n",
    "            \n",
    "            fighterURLs.append(fighterURL)"
   ]
  },
  {
   "cell_type": "markdown",
   "id": "16cfd8e5",
   "metadata": {},
   "source": [
    "#### Reading in pages and compiling data"
   ]
  },
  {
   "cell_type": "code",
   "execution_count": 205,
   "id": "96c19efa",
   "metadata": {},
   "outputs": [],
   "source": [
    "fighterList = []\n",
    "\n",
    "for fighterURL in fighterURLs:\n",
    "    RESPONSE = requests.get(fighterURL, headers = headers)\n",
    "    STATUS = RESPONSE.status_code\n",
    "    \n",
    "    if STATUS == 200:\n",
    "        PAGE = RESPONSE.text\n",
    "        SOUP = bs(PAGE)\n",
    "        \n",
    "        fighterStats = {}\n",
    "        \n",
    "        name = str(SOUP.find_all(\"h1\", itemprop = \"name\")[0].find(\"span\").text)\n",
    "        wins = int(SOUP.find(\"div\", class_ = \"winloses win\").find_all(\"span\")[1].text)\n",
    "        losses = int(SOUP.find(\"div\", class_ = \"winloses lose\").find_all(\"span\")[1].text)\n",
    "        nationality = str(SOUP.find(\"strong\", itemprop = \"nationality\").text)\n",
    "        association = str(SOUP.find(\"span\", itemprop = \"name\").text)\n",
    "        age = SOUP.find(\"div\", class_ = \"bio-holder\").find(\"table\").find_all(\"tr\")[0].find_all(\"td\")[1].find(\"b\").text\n",
    "        \n",
    "        try:\n",
    "            age = int(age)\n",
    "        except ValueError:\n",
    "            age = None\n",
    "            \n",
    "        fighterStats[\"name\"] = name\n",
    "        fighterStats[\"wins\"] = wins\n",
    "        fighterStats[\"losses\"] = losses\n",
    "        fighterStats[\"nationality\"] = nationality\n",
    "        fighterStats[\"association\"] = association\n",
    "        fighterStats[\"age\"] = age\n",
    "\n",
    "        fighterList.append(fighterStats)\n",
    "        \n",
    "fighterDataFrame = pd.DataFrame(fighterList)\n",
    "\n",
    "fighterDataFrame[\"win_loss_ratio\"] = fighterDataFrame[\"wins\"]/fighterDataFrame[\"losses\"]"
   ]
  },
  {
   "cell_type": "markdown",
   "id": "37053bbf",
   "metadata": {},
   "source": [
    "#### Compiled dataframe from scraped data"
   ]
  },
  {
   "cell_type": "code",
   "execution_count": 206,
   "id": "4f3300f1",
   "metadata": {},
   "outputs": [
    {
     "data": {
      "text/html": [
       "<div>\n",
       "<style scoped>\n",
       "    .dataframe tbody tr th:only-of-type {\n",
       "        vertical-align: middle;\n",
       "    }\n",
       "\n",
       "    .dataframe tbody tr th {\n",
       "        vertical-align: top;\n",
       "    }\n",
       "\n",
       "    .dataframe thead th {\n",
       "        text-align: right;\n",
       "    }\n",
       "</style>\n",
       "<table border=\"1\" class=\"dataframe\">\n",
       "  <thead>\n",
       "    <tr style=\"text-align: right;\">\n",
       "      <th></th>\n",
       "      <th>name</th>\n",
       "      <th>wins</th>\n",
       "      <th>losses</th>\n",
       "      <th>nationality</th>\n",
       "      <th>association</th>\n",
       "      <th>age</th>\n",
       "      <th>win_loss_ratio</th>\n",
       "    </tr>\n",
       "  </thead>\n",
       "  <tbody>\n",
       "    <tr>\n",
       "      <th>0</th>\n",
       "      <td>Francis Ngannou</td>\n",
       "      <td>17</td>\n",
       "      <td>3</td>\n",
       "      <td>France</td>\n",
       "      <td>Xtreme Couture</td>\n",
       "      <td>36.0</td>\n",
       "      <td>5.666667</td>\n",
       "    </tr>\n",
       "    <tr>\n",
       "      <th>1</th>\n",
       "      <td>Ciryl Gane</td>\n",
       "      <td>11</td>\n",
       "      <td>1</td>\n",
       "      <td>France</td>\n",
       "      <td>MMA Factory</td>\n",
       "      <td>32.0</td>\n",
       "      <td>11.000000</td>\n",
       "    </tr>\n",
       "    <tr>\n",
       "      <th>2</th>\n",
       "      <td>Tai Tuivasa</td>\n",
       "      <td>14</td>\n",
       "      <td>4</td>\n",
       "      <td>Australia</td>\n",
       "      <td>Lions High Performance Centre</td>\n",
       "      <td>29.0</td>\n",
       "      <td>3.500000</td>\n",
       "    </tr>\n",
       "    <tr>\n",
       "      <th>3</th>\n",
       "      <td>Sergei Pavlovich</td>\n",
       "      <td>16</td>\n",
       "      <td>1</td>\n",
       "      <td>Russia</td>\n",
       "      <td>Eagles MMA</td>\n",
       "      <td>30.0</td>\n",
       "      <td>16.000000</td>\n",
       "    </tr>\n",
       "    <tr>\n",
       "      <th>4</th>\n",
       "      <td>Derrick Lewis</td>\n",
       "      <td>26</td>\n",
       "      <td>10</td>\n",
       "      <td>United States</td>\n",
       "      <td>Main Street Boxing &amp; Muay Thai</td>\n",
       "      <td>37.0</td>\n",
       "      <td>2.600000</td>\n",
       "    </tr>\n",
       "    <tr>\n",
       "      <th>...</th>\n",
       "      <td>...</td>\n",
       "      <td>...</td>\n",
       "      <td>...</td>\n",
       "      <td>...</td>\n",
       "      <td>...</td>\n",
       "      <td>...</td>\n",
       "      <td>...</td>\n",
       "    </tr>\n",
       "    <tr>\n",
       "      <th>125</th>\n",
       "      <td>Saori Oshima</td>\n",
       "      <td>10</td>\n",
       "      <td>3</td>\n",
       "      <td>Japan</td>\n",
       "      <td>AACC</td>\n",
       "      <td>28.0</td>\n",
       "      <td>3.333333</td>\n",
       "    </tr>\n",
       "    <tr>\n",
       "      <th>126</th>\n",
       "      <td>Jessica Correa Delboni</td>\n",
       "      <td>12</td>\n",
       "      <td>4</td>\n",
       "      <td>Brazil</td>\n",
       "      <td>Parana Vale Tudo</td>\n",
       "      <td>29.0</td>\n",
       "      <td>3.000000</td>\n",
       "    </tr>\n",
       "    <tr>\n",
       "      <th>127</th>\n",
       "      <td>Alesha Zappitella</td>\n",
       "      <td>9</td>\n",
       "      <td>4</td>\n",
       "      <td>United States</td>\n",
       "      <td>Scorpion Fighting System</td>\n",
       "      <td>27.0</td>\n",
       "      <td>2.250000</td>\n",
       "    </tr>\n",
       "    <tr>\n",
       "      <th>128</th>\n",
       "      <td>Rena Kubota</td>\n",
       "      <td>13</td>\n",
       "      <td>4</td>\n",
       "      <td>Japan</td>\n",
       "      <td>Caesar Gym</td>\n",
       "      <td>31.0</td>\n",
       "      <td>3.250000</td>\n",
       "    </tr>\n",
       "    <tr>\n",
       "      <th>129</th>\n",
       "      <td>Kanna Asakura</td>\n",
       "      <td>19</td>\n",
       "      <td>7</td>\n",
       "      <td>Japan</td>\n",
       "      <td>Paraestra Matsudo</td>\n",
       "      <td>25.0</td>\n",
       "      <td>2.714286</td>\n",
       "    </tr>\n",
       "  </tbody>\n",
       "</table>\n",
       "<p>130 rows × 7 columns</p>\n",
       "</div>"
      ],
      "text/plain": [
       "                       name  wins  losses    nationality  \\\n",
       "0           Francis Ngannou    17       3         France   \n",
       "1                Ciryl Gane    11       1         France   \n",
       "2               Tai Tuivasa    14       4      Australia   \n",
       "3          Sergei Pavlovich    16       1         Russia   \n",
       "4             Derrick Lewis    26      10  United States   \n",
       "..                      ...   ...     ...            ...   \n",
       "125            Saori Oshima    10       3          Japan   \n",
       "126  Jessica Correa Delboni    12       4         Brazil   \n",
       "127       Alesha Zappitella     9       4  United States   \n",
       "128             Rena Kubota    13       4          Japan   \n",
       "129           Kanna Asakura    19       7          Japan   \n",
       "\n",
       "                        association   age  win_loss_ratio  \n",
       "0                    Xtreme Couture  36.0        5.666667  \n",
       "1                       MMA Factory  32.0       11.000000  \n",
       "2     Lions High Performance Centre  29.0        3.500000  \n",
       "3                        Eagles MMA  30.0       16.000000  \n",
       "4    Main Street Boxing & Muay Thai  37.0        2.600000  \n",
       "..                              ...   ...             ...  \n",
       "125                            AACC  28.0        3.333333  \n",
       "126                Parana Vale Tudo  29.0        3.000000  \n",
       "127        Scorpion Fighting System  27.0        2.250000  \n",
       "128                      Caesar Gym  31.0        3.250000  \n",
       "129               Paraestra Matsudo  25.0        2.714286  \n",
       "\n",
       "[130 rows x 7 columns]"
      ]
     },
     "execution_count": 206,
     "metadata": {},
     "output_type": "execute_result"
    }
   ],
   "source": [
    "fighterDataFrame"
   ]
  },
  {
   "cell_type": "markdown",
   "id": "f9c910cd",
   "metadata": {},
   "source": [
    "#### Organization of data for graphing"
   ]
  },
  {
   "cell_type": "code",
   "execution_count": 181,
   "id": "29fea2a8",
   "metadata": {},
   "outputs": [],
   "source": [
    "associationDictionary = {}\n",
    "\n",
    "for fighter in fighterList:\n",
    "    if fighter[\"association\"] in associationDictionary:\n",
    "        associationDictionary[fighter[\"association\"]] = associationDictionary[fighter[\"association\"]] + 1\n",
    "    else:\n",
    "        associationDictionary[fighter[\"association\"]] = 1\n",
    "        \n",
    "tempAssociationDictionary = {}        \n",
    "        \n",
    "for key, value in associationDictionary.items():\n",
    "    if value > 2:\n",
    "        tempAssociationDictionary[key] = value\n",
    "        \n",
    "associationDictionary = tempAssociationDictionary\n",
    "\n",
    "associationDataFrame = pd.DataFrame(associationDictionary.items(), columns = [\"Association\", \"Count\"])"
   ]
  },
  {
   "cell_type": "markdown",
   "id": "c5543068",
   "metadata": {},
   "source": [
    "#### Are there associations that multiple MMA fighters belong to?"
   ]
  },
  {
   "cell_type": "code",
   "execution_count": 183,
   "id": "e76fdc54",
   "metadata": {},
   "outputs": [
    {
     "data": {
      "text/plain": [
       "[Text(0.5, 1.0, \"8 top 10 fighters from MMA's most populous weight classes belong to American Top Team\")]"
      ]
     },
     "execution_count": 183,
     "metadata": {},
     "output_type": "execute_result"
    },
    {
     "data": {
      "image/png": "[encoded data removed]",
      "text/plain": [
       "<Figure size 432x288 with 1 Axes>"
      ]
     },
     "metadata": {
      "needs_background": "light"
     },
     "output_type": "display_data"
    }
   ],
   "source": [
    "sns.barplot(x = \"Count\", y = \"Association\", data = associationDataFrame).set(title = \"8 top 10 fighters from MMA's most populous weight classes belong to American Top Team\")"
   ]
  },
  {
   "cell_type": "markdown",
   "id": "795e5c55",
   "metadata": {},
   "source": [
    "#### Organization of data for graphing"
   ]
  },
  {
   "cell_type": "code",
   "execution_count": 190,
   "id": "84f6cc65",
   "metadata": {},
   "outputs": [],
   "source": [
    "nationalityDictionary = {}\n",
    "\n",
    "for fighter in fighterList:\n",
    "    if fighter[\"nationality\"] in nationalityDictionary:\n",
    "        nationalityDictionary[fighter[\"nationality\"]] = nationalityDictionary[fighter[\"nationality\"]] + 1\n",
    "    else:\n",
    "        nationalityDictionary[fighter[\"nationality\"]] = 1\n",
    "        \n",
    "tempNationalityDictionary = {}        \n",
    "        \n",
    "for key, value in nationalityDictionary.items():\n",
    "    tempNationalityDictionary[key] = value\n",
    "        \n",
    "nationalityDictionary = tempNationalityDictionary\n",
    "\n",
    "nationalityDataFrame = pd.DataFrame(nationalityDictionary.items(), columns = [\"Nationality\", \"Count\"])"
   ]
  },
  {
   "cell_type": "markdown",
   "id": "5a4ebc5c",
   "metadata": {},
   "source": [
    "#### Are there countries that account for a majority of MMA fighters?"
   ]
  },
  {
   "cell_type": "code",
   "execution_count": 192,
   "id": "26e99e01",
   "metadata": {},
   "outputs": [
    {
     "data": {
      "text/plain": [
       "[Text(0.5, 1.0, 'The United States and Brazil account for the majority of the top 10 fighters in the most populous weight classes in MMA')]"
      ]
     },
     "execution_count": 192,
     "metadata": {},
     "output_type": "execute_result"
    },
    {
     "data": {
      "image/png": "[encoded data removed]",
      "text/plain": [
       "<Figure size 432x288 with 1 Axes>"
      ]
     },
     "metadata": {
      "needs_background": "light"
     },
     "output_type": "display_data"
    }
   ],
   "source": [
    "sns.barplot(x = \"Count\", y = \"Nationality\", data = nationalityDataFrame).set(title = \"The United States and Brazil account for the majority of the top 10 fighters in the most populous weight classes in MMA\")"
   ]
  },
  {
   "cell_type": "markdown",
   "id": "87794448",
   "metadata": {},
   "source": [
    "#### Calculation of data"
   ]
  },
  {
   "cell_type": "code",
   "execution_count": 196,
   "id": "c935ac2e",
   "metadata": {},
   "outputs": [],
   "source": [
    "count = 0\n",
    "total = 0\n",
    "\n",
    "for fighter in fighterList:\n",
    "    count = count + 1\n",
    "    \n",
    "    if type(fighter[\"age\"]) == int or type(fighter[\"age\"]) == float:\n",
    "        total = total + fighter[\"age\"]\n",
    "        \n",
    "averageAge = total/count"
   ]
  },
  {
   "cell_type": "markdown",
   "id": "a17f7231",
   "metadata": {},
   "source": [
    "#### What is the average age of MMA fighters?"
   ]
  },
  {
   "cell_type": "code",
   "execution_count": 197,
   "id": "59127f3f",
   "metadata": {},
   "outputs": [
    {
     "data": {
      "text/plain": [
       "32.323076923076925"
      ]
     },
     "execution_count": 197,
     "metadata": {},
     "output_type": "execute_result"
    }
   ],
   "source": [
    "averageAge"
   ]
  },
  {
   "cell_type": "markdown",
   "id": "3d372d74",
   "metadata": {},
   "source": [
    "#### Calculation of data"
   ]
  },
  {
   "cell_type": "code",
   "execution_count": 201,
   "id": "b0e217a4",
   "metadata": {},
   "outputs": [],
   "source": [
    "count = 0\n",
    "total = 0\n",
    "for fighter in fighterList:\n",
    "    count = count + 1\n",
    "    \n",
    "    losses = fighter[\"losses\"]\n",
    "    \n",
    "    if losses == 0:\n",
    "        losses = 1\n",
    "    \n",
    "    total = total + fighter[\"wins\"]/losses\n",
    "    \n",
    "averageWinLossRatio = total/count"
   ]
  },
  {
   "cell_type": "markdown",
   "id": "bef4fc1e",
   "metadata": {},
   "source": [
    "#### What is the average ratio of wins to losses among MMA fighters?"
   ]
  },
  {
   "cell_type": "code",
   "execution_count": 202,
   "id": "9d1d3fdb",
   "metadata": {},
   "outputs": [
    {
     "data": {
      "text/plain": [
       "6.105555555555555"
      ]
     },
     "execution_count": 202,
     "metadata": {},
     "output_type": "execute_result"
    }
   ],
   "source": [
    "averageWinLossRatio"
   ]
  }
 ],
 "metadata": {
  "kernelspec": {
   "display_name": "Python 3 (ipykernel)",
   "language": "python",
   "name": "python3"
  },
  "language_info": {
   "codemirror_mode": {
    "name": "ipython",
    "version": 3
   },
   "file_extension": ".py",
   "mimetype": "text/x-python",
   "name": "python",
   "nbconvert_exporter": "python",
   "pygments_lexer": "ipython3",
   "version": "3.9.12"
  }
 },
 "nbformat": 4,
 "nbformat_minor": 5
}
